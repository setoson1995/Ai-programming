{
  "nbformat": 4,
  "nbformat_minor": 0,
  "metadata": {
    "colab": {
      "provenance": []
    },
    "kernelspec": {
      "name": "python3",
      "display_name": "Python 3"
    },
    "language_info": {
      "name": "python"
    }
  },
  "cells": [
    {
      "cell_type": "code",
      "execution_count": 13,
      "metadata": {
        "colab": {
          "base_uri": "https://localhost:8080/"
        },
        "id": "Ln0hMmHpiUMs",
        "outputId": "8de63a10-fee6-4b94-cd36-6761ec2467d2"
      },
      "outputs": [
        {
          "output_type": "stream",
          "name": "stdout",
          "text": [
            "사용자 질문: 오늘 너무 기분이 안 좋아\n",
            "가장 유사한 학습 질문: 배 아파서 기분이 안 좋아\n",
            "챗봇의 답변: 약이 필요하면 도움을 받아보세요.\n"
          ]
        }
      ],
      "source": [
        "#from google.colab import files\n",
        "#uploaded = files.upload()\n",
        "\n",
        "#!pip install python-Levenshtein\n",
        "\n",
        "# 시작-------------------------------------------------------------------------------\n",
        "# pandas 라이브러리를 불러옵니다. 데이터프레임 형식으로 CSV 파일을 읽기 위해 사용합니다.\n",
        "import pandas as pd\n",
        "\n",
        "# Levenshtein 거리 계산을 위한 라이브러리. 두 문자열 간의 최소 편집 거리를 계산합니다.\n",
        "import Levenshtein\n",
        "\n",
        "# 실습 자료 파일인 ChatbotData.csv 파일을 읽어서 'data'라는 변수에 저장합니다.\n",
        "data = pd.read_csv(\"ChatbotData.csv\")\n",
        "\n",
        "# 업로드 파일 끝-------------------------------------------------------------------------------\n",
        "\n",
        "\n",
        "# 사용자가 말하고 싶은 문장 입력\n",
        "user_question = \"오늘 너무 기분이 안 좋아\"\n",
        "\n",
        "# 학습 데이터의 모든 질문과 사용자의 질문 간 레벤슈타인 거리(편집 거리)를 계산합니다.\n",
        "# 결과는 'distances' 리스트에 저장\n",
        "distances = [Levenshtein.distance(user_question, q) for q in data['Q']]\n",
        "\n",
        "# 처음 업로드 했던 ChatbotData.csv 파일에서 사용자의 질문과 가장 가까운 학습 질문의 위치를 찾기 위해\n",
        "# 거리 값이 가장 작은 인덱스를 찾습니다.\n",
        "min_index = distances.index(min(distances))\n",
        "\n",
        "# 결과 출력\n",
        "print(\"사용자 질문:\", user_question)\n",
        "print(\"가장 유사한 학습 질문:\", data['Q'][min_index])\n",
        "print(\"챗봇의 답변:\", data['A'][min_index])\n"
      ]
    }
  ]
}
